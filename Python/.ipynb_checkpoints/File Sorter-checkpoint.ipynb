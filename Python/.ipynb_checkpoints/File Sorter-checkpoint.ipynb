{
 "cells": [
  {
   "cell_type": "code",
   "execution_count": 2,
   "id": "4e165e2c",
   "metadata": {},
   "outputs": [],
   "source": [
    "import os, shutil"
   ]
  },
  {
   "cell_type": "code",
   "execution_count": 3,
   "id": "f7daa948",
   "metadata": {},
   "outputs": [],
   "source": [
    "path = r\"C:\\Users\\Sangalang\\Desktop\\Maui\\data analyst\\Python\\FileSort\""
   ]
  },
  {
   "cell_type": "code",
   "execution_count": 36,
   "id": "c3b09b1f",
   "metadata": {},
   "outputs": [],
   "source": [
    "file_names = os.listdir(path)"
   ]
  },
  {
   "cell_type": "code",
   "execution_count": 28,
   "id": "6f9959ce",
   "metadata": {},
   "outputs": [
    {
     "name": "stdout",
     "output_type": "stream",
     "text": [
      "csv files Folder already exists\n",
      "pdf files Folder already exists\n",
      "docs files Folder already exists\n"
     ]
    }
   ],
   "source": [
    "folderName = [\"csv files\", \"pdf files\", \"docs files\"]\n",
    "\n",
    "for i in folderName:\n",
    "    if not os.path.exists(path + \"\\\\\" + i):\n",
    "        os.makedirs(path + \"\\\\\" + i)\n",
    "    else:\n",
    "        print(i + \" Folder already exists\")"
   ]
  },
  {
   "cell_type": "code",
   "execution_count": 42,
   "id": "19df4c0c",
   "metadata": {},
   "outputs": [],
   "source": [
    "for file in file_names:\n",
    "    if \".xlsx\" in file and not os.path.exists(path + \"\\\\csv files\\\\\" + file):\n",
    "        shutil.move(path + \"\\\\\" + file, path + \"\\\\csv files\\\\\" + file)\n",
    "    elif \".docx\" in file and not os.path.exists(path + \"\\\\docs files\\\\\" + file):\n",
    "        shutil.move(path + \"\\\\\" + file, path + \"\\\\docs files\\\\\" + file)\n",
    "    elif \".pdf\" in file and not os.path.exists(path + \"\\\\pdf files\\\\\" + file):\n",
    "        shutil.move(path + \"\\\\\" + file, path + \"\\\\pdf files\\\\\" + file)\n",
    "        "
   ]
  }
 ],
 "metadata": {
  "kernelspec": {
   "display_name": "Python 3 (ipykernel)",
   "language": "python",
   "name": "python3"
  },
  "language_info": {
   "codemirror_mode": {
    "name": "ipython",
    "version": 3
   },
   "file_extension": ".py",
   "mimetype": "text/x-python",
   "name": "python",
   "nbconvert_exporter": "python",
   "pygments_lexer": "ipython3",
   "version": "3.11.5"
  }
 },
 "nbformat": 4,
 "nbformat_minor": 5
}
